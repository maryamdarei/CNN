{
  "cells": [
    {
      "cell_type": "markdown",
      "metadata": {
        "id": "view-in-github",
        "colab_type": "text"
      },
      "source": [
        "<a href=\"https://colab.research.google.com/github/maryamdarei/CNN/blob/main/New_Final_CNN_with_GradCAM.ipynb\" target=\"_parent\"><img src=\"https://colab.research.google.com/assets/colab-badge.svg\" alt=\"Open In Colab\"/></a>"
      ]
    },
    {
      "cell_type": "code",
      "execution_count": 1,
      "id": "6a71ad48",
      "metadata": {
        "colab": {
          "base_uri": "https://localhost:8080/"
        },
        "id": "6a71ad48",
        "outputId": "77a447f5-bb3b-40d1-852e-422d3288cdf1"
      },
      "outputs": [
        {
          "output_type": "stream",
          "name": "stdout",
          "text": [
            "\u001b[K     |████████████████████████████████| 7.8 MB 5.0 MB/s \n",
            "\u001b[?25h  Installing build dependencies ... \u001b[?25l\u001b[?25hdone\n",
            "  Getting requirements to build wheel ... \u001b[?25l\u001b[?25hdone\n",
            "    Preparing wheel metadata ... \u001b[?25l\u001b[?25hdone\n",
            "  Building wheel for grad-cam (PEP 517) ... \u001b[?25l\u001b[?25hdone\n"
          ]
        }
      ],
      "source": [
        "pip install -q grad-cam==1.4.3\n"
      ]
    },
    {
      "cell_type": "code",
      "source": [
        "!pip3 install torch==1.8.1 torchvision==0.9.1 -f https://download.pytorch.org/whl/cu101/torch_stable.html"
      ],
      "metadata": {
        "colab": {
          "base_uri": "https://localhost:8080/",
          "height": 536
        },
        "id": "iNoMNhwUCWOV",
        "outputId": "1c02864f-1235-417d-e7d8-bd53bd132ea2"
      },
      "id": "iNoMNhwUCWOV",
      "execution_count": 42,
      "outputs": [
        {
          "output_type": "stream",
          "name": "stdout",
          "text": [
            "Looking in indexes: https://pypi.org/simple, https://us-python.pkg.dev/colab-wheels/public/simple/\n",
            "Looking in links: https://download.pytorch.org/whl/cu101/torch_stable.html\n",
            "Collecting torch==1.8.1\n",
            "  Using cached https://download.pytorch.org/whl/cu101/torch-1.8.1%2Bcu101-cp38-cp38-linux_x86_64.whl (763.7 MB)\n",
            "Collecting torchvision==0.9.1\n",
            "  Downloading https://download.pytorch.org/whl/cu101/torchvision-0.9.1%2Bcu101-cp38-cp38-linux_x86_64.whl (17.3 MB)\n",
            "\u001b[K     |████████████████████████████████| 17.3 MB 5.1 MB/s \n",
            "\u001b[?25hRequirement already satisfied: numpy in /usr/local/lib/python3.8/dist-packages (from torch==1.8.1) (1.21.6)\n",
            "Requirement already satisfied: typing-extensions in /usr/local/lib/python3.8/dist-packages (from torch==1.8.1) (4.4.0)\n",
            "Requirement already satisfied: pillow>=4.1.1 in /usr/local/lib/python3.8/dist-packages (from torchvision==0.9.1) (7.1.2)\n",
            "Installing collected packages: torch, torchvision\n",
            "  Attempting uninstall: torch\n",
            "    Found existing installation: torch 1.4.0\n",
            "    Uninstalling torch-1.4.0:\n",
            "      Successfully uninstalled torch-1.4.0\n",
            "  Attempting uninstall: torchvision\n",
            "    Found existing installation: torchvision 0.5.0\n",
            "    Uninstalling torchvision-0.5.0:\n",
            "      Successfully uninstalled torchvision-0.5.0\n",
            "\u001b[31mERROR: pip's dependency resolver does not currently take into account all the packages that are installed. This behaviour is the source of the following dependency conflicts.\n",
            "torchtext 0.14.0 requires torch==1.13.0, but you have torch 1.8.1+cu101 which is incompatible.\n",
            "torchaudio 0.13.0+cu116 requires torch==1.13.0, but you have torch 1.8.1+cu101 which is incompatible.\u001b[0m\n",
            "Successfully installed torch-1.8.1+cu101 torchvision-0.9.1+cu101\n"
          ]
        },
        {
          "output_type": "display_data",
          "data": {
            "application/vnd.colab-display-data+json": {
              "pip_warning": {
                "packages": [
                  "torch",
                  "torchvision"
                ]
              }
            }
          },
          "metadata": {}
        }
      ]
    },
    {
      "cell_type": "code",
      "source": [
        "from google.colab import drive\n",
        "drive.mount('/content/drive')"
      ],
      "metadata": {
        "colab": {
          "base_uri": "https://localhost:8080/"
        },
        "id": "md-zd0rK30dJ",
        "outputId": "0ababd85-02a6-41e5-bd32-7097de50e6df"
      },
      "id": "md-zd0rK30dJ",
      "execution_count": 2,
      "outputs": [
        {
          "output_type": "stream",
          "name": "stdout",
          "text": [
            "Mounted at /content/drive\n"
          ]
        }
      ]
    },
    {
      "cell_type": "markdown",
      "id": "5dfc46a7",
      "metadata": {
        "id": "5dfc46a7"
      },
      "source": [
        "### Utility functions\n",
        "I like to write my own code, so I have prepared some helper functions to easily train and evaluate the model.\n",
        "\n",
        "I will be using CrossEntropyLoss in PyTorch, so the model will be trained by using Cross Entropy loss, the implementation already applies logsoftmax to the outputs. So we have to manually apply softmax to model's outputs while evaluating and preparing the predictions.\n",
        "\n"
      ]
    },
    {
      "cell_type": "code",
      "execution_count": 26,
      "id": "ca7c0568",
      "metadata": {
        "id": "ca7c0568"
      },
      "outputs": [],
      "source": [
        "# utilization\n",
        "import os\n",
        "from tqdm import tqdm\n",
        "from glob import glob\n",
        "\n",
        "# data manipulation and visualization tools\n",
        "import matplotlib.pyplot as plt\n",
        "import numpy as np\n",
        "import pandas as pd\n",
        "\n",
        "# cross-validaion and evaluation tools\n",
        "from sklearn.metrics import classification_report\n",
        "from sklearn.model_selection import KFold, train_test_split\n",
        "\n",
        "# model development and data preparation\n",
        "import torch\n",
        "import torchvision\n",
        "\n",
        "from torch import nn\n",
        "from torch.utils.data import DataLoader, Dataset\n",
        "from torch.utils.data import SubsetRandomSampler, ConcatDataset\n",
        "from torch.utils.data import random_split\n",
        "from torchvision.io import read_image\n",
        "from torchvision import transforms as t\n",
        "\n",
        "\n",
        "# GradCAM implementations and some utility tools\n",
        "from pytorch_grad_cam import GradCAM, HiResCAM, ScoreCAM, GradCAMPlusPlus, AblationCAM, XGradCAM, EigenCAM, FullGrad, LayerCAM, EigenGradCAM\n",
        "from pytorch_grad_cam.utils.model_targets import ClassifierOutputSoftmaxTarget\n",
        "from pytorch_grad_cam.utils.image import show_cam_on_image\n",
        "\n",
        "torch.backends.cudnn.benchmark = True\n",
        "\n"
      ]
    },
    {
      "cell_type": "markdown",
      "id": "1db7c822",
      "metadata": {
        "id": "1db7c822"
      },
      "source": [
        "### GradCAM\n",
        "\n",
        "GradCAM stands for Gradient-weighted class activation mappings. In short, we will weight the layer activations by gradients, which will generate a heatmap. Then, we can visualize the parts of the image that has the most impact on the model's outputs. Weighting the layer activations by calculated gradients is not enough though, we have lots of channels in a convolutional layer so we will average the gradients.\n",
        "\n",
        "I will be using this package to use GradCAM on our networks. The package has different GradCAM implementations, we will generally be using the standard one but I'm including the descriptions of a few of them:\n",
        "\n",
        "   ##### 1- GradCAM: Weight the 2D activations by the average gradient\n",
        "\n",
        "   ##### 2- HiResCAM: Like GradCAM but element-wise multiply the activations with the gradients; provably guaranteed faithfulness for certain models\n",
        "\n",
        "   ##### 3- GradCAMElementWise: Like GradCAM but element-wise multiply the activations with the gradients then apply a ReLU operation before summing\n",
        "\n",
        "   ##### 4- GradCAM++: Like GradCAM but uses second order gradients\n",
        "\n",
        "   ##### 5- XGradCAM: Like GradCAM but scale the gradients by the normalized activations\n",
        "\n",
        "   ##### 6- AblationCAM: Zero out activations and measure how the output drops (this package includes a fast batched implementation)\n",
        "\n",
        "   ##### 7- ScoreCAM: Perbutate the image by the scaled activations and measure how the output drops\n",
        "\n",
        "   ##### 8- EigenCAM: Takes the first principle component of the 2D Activations (no class discrimination, but seems to give great results)\n",
        "\n",
        "   ##### 9- EigenGradCAM: Like EigenCAM but with class discrimination: First principle component of Activations*Grad. Looks like GradCAM, but cleaner\n",
        "\n",
        "   ##### 10- LayerCAM: Spatially weight the activations by positive gradients. Works better, especially in lower layers\n",
        "\n",
        "   ##### 11- FullGrad: Computes the gradients of the biases from all over the network, and then sums them\n",
        "\n",
        "   ##### 12- Deep Feature Factorizations: Non Negative Matrix Factorization on the 2D activations\n",
        "\n",
        "The descriptions were taken from the github repo\n",
        "\n",
        "A little helper included below to calculate and plot the GradCAM results:\n",
        "\n"
      ]
    },
    {
      "cell_type": "code",
      "execution_count": 27,
      "id": "8d0e829f",
      "metadata": {
        "id": "8d0e829f"
      },
      "outputs": [],
      "source": [
        "# CNN Model With PyTorch For Image Classification\n",
        "# Load in relevant libraries, and alias where appropriate\n",
        "import torch\n",
        "import torch.nn as nn\n",
        "import torchvision\n",
        "import torchvision.transforms as transforms\n",
        "from torchvision import transforms\n",
        "from torchvision.datasets import ImageFolder\n",
        "import matplotlib.pyplot as plt\n",
        "from PIL import Image\n",
        "import sys\n",
        "import os\n",
        "import glob\n",
        "import cv2\n"
      ]
    },
    {
      "cell_type": "code",
      "execution_count": 28,
      "id": "b737ead3",
      "metadata": {
        "id": "b737ead3"
      },
      "outputs": [],
      "source": [
        "def random_split_ratio(dataset, test_size=.2, random_state=None):\n",
        "    L = len(dataset)\n",
        "    n_second = int(L*test_size)\n",
        "    n_first = L - n_second\n",
        "    if random_state:\n",
        "        first_split, second_split = random_split(dataset, lengths=[n_first, n_second], generator=torch.Generator().manual_seed(random_state))\n",
        "    else:\n",
        "        first_split, second_split = random_split(dataset, lengths=[n_first, n_second])\n",
        "\n",
        "    return first_split, second_split\n",
        "\n",
        "\n",
        "dataset = \"/content/drive/MyDrive/Herbarium Data-2019/small-train-AUG\"\n"
      ]
    },
    {
      "cell_type": "code",
      "execution_count": 29,
      "id": "3d987a4a",
      "metadata": {
        "id": "3d987a4a"
      },
      "outputs": [],
      "source": [
        "def show(dataset, N=5, labels=None, figsize=(20, 20)):\n",
        "    \"\"\" Shows random N samples from the dataset \"\"\"\n",
        "    idxs = np.random.randint(0, len(dataset)-1, N)\n",
        "\n",
        "    fig, axs = plt.subplots(ncols=len(idxs), squeeze=False, figsize=figsize)\n",
        "\n",
        "    for i, idx in enumerate(idxs):\n",
        "        sample = dataset[idx]\n",
        "        \n",
        "        if isinstance(sample, tuple): # then it is in the form (x, y)\n",
        "            sample, label = sample\n",
        "            label = int(label.item())\n",
        "            if labels:\n",
        "                label = labels[label]\n",
        "            axs[0, i].title.set_text(label)\n",
        "\n",
        "        sample = sample.permute(1, 2, 0)\n",
        "\n",
        "        axs[0, i].imshow(sample, cmap='gray')\n",
        "        axs[0, i].set(xticklabels = [], yticklabels = [], xticks = [], yticks = [])\n",
        "\n",
        "    plt.show()\n"
      ]
    },
    {
      "cell_type": "code",
      "execution_count": 30,
      "id": "0c280377",
      "metadata": {
        "id": "0c280377"
      },
      "outputs": [],
      "source": [
        "\n",
        "def evaluate(dataset, model, device='cpu', **dataloader_args):\n",
        "    dataloader = DataLoader(dataset, **dataloader_args)\n",
        "    preds = []\n",
        "    labels = []\n",
        "    with torch.no_grad():\n",
        "        model.eval()\n",
        "        model.to(device)\n",
        "        \n",
        "        for x_batch, y_batch in tqdm(dataloader):\n",
        "            x_batch = x_batch.to(device)\n",
        "            y_batch = y_batch.tolist()\n",
        "            \n",
        "            outs = model(x_batch).detach().cpu()\n",
        "            predictions = torch.argmax(torch.softmax(outs, 1), 1).tolist()\n",
        "            \n",
        "            # extend the `preds` and `labels` lists with predictions and true labels\n",
        "            preds.extend(predictions)\n",
        "            labels.extend(y_batch)\n",
        "            \n",
        "    report = classification_report(labels, preds, digits = 3)\n",
        "    print(report)\n",
        "    return report\n",
        "\n",
        "def train_cv(model_, loss_fn_, optimizer_, dataset, batch_size=256, device='cpu', cv=5, epochs=10, random_state=None, **opt_args):\n",
        "    training_losses = []\n",
        "    validation_losses = [] \n",
        "    fold_models = []\n",
        "    \n",
        "    # define a pseudo number generator and seed it manually if random_state is given\n",
        "    if random_state:\n",
        "        gen = torch.Generator().manual_seed(random_state)\n",
        "    else:\n",
        "        gen = None\n",
        "        \n",
        "    kfold = KFold(n_splits=cv, random_state=random_state, shuffle=True)\n",
        "    \n",
        "    for fold, (train_idx, val_idx) in enumerate(kfold.split(np.arange(len(dataset)))):\n",
        "        fold_training_losses = []\n",
        "        fold_validation_losses = []\n",
        "        \n",
        "        print(\"CURRENT FOLD:\", fold+1)\n",
        "        \n",
        "        train_sampler = SubsetRandomSampler(train_idx, generator=gen)\n",
        "        validation_sampler = SubsetRandomSampler(val_idx, generator=gen)\n",
        "        \n",
        "        train_loader = DataLoader(dataset, batch_size=batch_size, sampler=train_sampler)\n",
        "        val_loader = DataLoader(dataset, batch_size=batch_size, sampler=validation_sampler)\n",
        "        \n",
        "        # train the model using training and validation sets\n",
        "        fold_training_losses, fold_validation_losses = train(model_, loss_fn_, optimizer_,\n",
        "                                                             train_loader=train_loader, val_loader=val_loader,\n",
        "                                                             device=device, epochs=epochs, **opt_args)\n",
        "\n",
        "        # save losses for the fold in respective arrays \n",
        "        training_losses.append(fold_training_losses)\n",
        "        validation_losses.append(fold_validation_losses)\n",
        "        \n",
        "    print(\"----Cross validation finished----\")\n",
        "    print(\"Average losses:\")\n",
        "    for fold_idx, (training_loss, val_loss) in enumerate(zip(training_losses, validation_losses)):\n",
        "        avg_training_loss = sum(training_loss)/epochs\n",
        "        avg_val_loss = sum(val_loss)/epochs\n",
        "        print(f\"FOLD: {fold_idx+1} | avg. training loss: {avg_training_loss:.3f} | avg. validation loss: {avg_val_loss:.3f}\")\n",
        "    \n",
        "    else:\n",
        "        return training_losses, validation_losses\n",
        "\n",
        "\n",
        "def train(model_, loss_fn_, optimizer_, \n",
        "          train_loader, val_loader,\n",
        "          return_model=False, device='cpu', \n",
        "          epochs=10, **opt_args):\n",
        "    \n",
        "    \n",
        "    if train_loader.sampler:\n",
        "        n_train = len(train_loader.sampler)\n",
        "        n_val = len(val_loader.sampler)\n",
        "    else:\n",
        "        n_train = len(train_loader.dataset)\n",
        "        n_val = len(val_loader.dataset)\n",
        "    \n",
        "    training_losses = []\n",
        "    validation_losses = [] \n",
        "    \n",
        "    # initialize the model, optimizer and loss function\n",
        "    model = model_()\n",
        "    loss_fn = loss_fn_()\n",
        "    optimizer = optimizer_(model.parameters(), **opt_args)\n",
        "\n",
        "    # pass the model to the given device\n",
        "    model.to(device)\n",
        "\n",
        "    print(\"Number of samples\")\n",
        "    print(\"Training:\", n_train)\n",
        "    print('Validation:', n_val)\n",
        "    for epoch in range(epochs):\n",
        "        # define running losses\n",
        "        epoch_training_running_loss = 0\n",
        "        epoch_val_running_loss = 0\n",
        "\n",
        "        # loop through every batch in the training loader\n",
        "        for x_batch, y_batch in tqdm(train_loader): \n",
        "            # pass the batches to given device\n",
        "            x_batch, y_batch = x_batch.to(device), y_batch.to(device)\n",
        "\n",
        "            # set the gradients to 0 beforehand\n",
        "            # it can also be written after `optimizer.step()`, just a preference.\n",
        "            optimizer.zero_grad(set_to_none=True)\n",
        "\n",
        "            # get the model outputs and calculate the loss\n",
        "            outs = model(x_batch)\n",
        "            loss = loss_fn(outs, y_batch)\n",
        "\n",
        "            # calculate the gradients and apply an optimization step\n",
        "            loss.backward() \n",
        "            optimizer.step()\n",
        "\n",
        "            # we can use `.item()` method to read the loss value\n",
        "            # since the loss function automatically calculates the loss by averaging the input size,\n",
        "            # we will multiply it with the batch size to add it\n",
        "            # then we can average it by the whole dataset size\n",
        "            # note: it is also possible to average the loss by the number of batches at the end of the epoch (without multiplying with x_batch.size(0))\n",
        "            # but this approach is more understandable I think.\n",
        "            epoch_training_running_loss += (loss.item() * x_batch.size(0))\n",
        "\n",
        "        with torch.no_grad():\n",
        "            model.eval()\n",
        "            for x_batch, y_batch in tqdm(val_loader):\n",
        "                x_batch, y_batch = x_batch.to(device), y_batch.to(device)\n",
        "\n",
        "                outs = model(x_batch)\n",
        "                loss = loss_fn(outs, y_batch)\n",
        "\n",
        "                epoch_val_running_loss += (loss.item() * x_batch.size(0))\n",
        "            model.train()\n",
        "\n",
        "        average_training_loss = epoch_training_running_loss / n_train\n",
        "        average_validation_loss = epoch_val_running_loss / n_val\n",
        "\n",
        "        training_losses.append(average_training_loss)\n",
        "        validation_losses.append(average_validation_loss)\n",
        "        \n",
        "        print(f\"epoch {epoch+1}/{epochs} | avg. training loss: {average_training_loss:.3f}, avg. validation loss: {average_validation_loss:.3f}\")\n",
        "\n",
        "    # return the training and validtion losses, also return the model if return_model is True\n",
        "    if return_model:\n",
        "        return training_losses, validation_losses, model\n",
        "    else:\n",
        "        return training_losses, validation_losses\n",
        "\n"
      ]
    },
    {
      "cell_type": "code",
      "execution_count": 31,
      "id": "9e50980c",
      "metadata": {
        "id": "9e50980c"
      },
      "outputs": [],
      "source": [
        "\n",
        "def gradcam(model, gradcam_obj, layers, targets, dataset, N=5, use_cuda=False, show_labels=False, idx_to_label=None, **gradcam_params):\n",
        "    random_indices = np.random.randint(0, len(dataset), N)\n",
        "    samples = [dataset[idx][0].unsqueeze(0) for idx in random_indices]\n",
        "    input_tensor = torch.cat(samples, dim=0)\n",
        "    \n",
        "    if show_labels:\n",
        "        labels = [dataset[idx][1].item() for idx in random_indices]\n",
        "        if idx_to_label:\n",
        "            labels = [idx_to_label[label] for label in labels]\n",
        "    \n",
        "    for idx, layer in enumerate(layers):\n",
        "        target_layers = [layer]\n",
        "        \n",
        "        # Construct the CAM object once, and then re-use it on many images.\n",
        "        # since we will be using it for every single convolutional layer, I will redefine it every time\n",
        "        cam = gradcam_obj(model=model, target_layers=target_layers, use_cuda=use_cuda)\n",
        "        \n",
        "        # You can also pass aug_smooth=True and eigen_smooth=True to apply smoothing.\n",
        "        grayscale_cam = cam(input_tensor=input_tensor, targets=targets, **gradcam_params)\n",
        "\n",
        "        images = [input_tensor[idx].permute(1,2,0).numpy() for idx in range(N)]\n",
        "        grayscaled_cam = [grayscale_cam[idx,:] for idx in range(N)]\n",
        "        heatmaps_on_inputs = [show_cam_on_image(img, cam) for img,cam in zip(images, grayscaled_cam)]\n",
        "        \n",
        "        viz_img_list = [images, grayscaled_cam, heatmaps_on_inputs]\n",
        "        subfig_titles = [\"Input Images\", \"Grayscaled Heatmap\", \"Heatmaps on the Inputs\"]\n",
        "        \n",
        "        fig = plt.figure(figsize=(20, 10))\n",
        "        subfigs = fig.subplots(nrows=3, ncols=1) #I change fig.subfigures to fig.subplots\n",
        "\n",
        "        fig.suptitle(f'GradCAM for layer: {idx+1}', fontsize=18, y=1.05)\n",
        "        for subfig_idx, subfig in enumerate(subfigs):\n",
        "            subfig.suptitle(subfig_titles[subfig_idx], y=1)\n",
        "            \n",
        "            viz_list = viz_img_list[subfig_idx]\n",
        "            \n",
        "            axs = subfig.subplots(nrows=1, ncols=N)\n",
        "            for idx in range(N):\n",
        "                axs[idx].imshow(viz_list[idx], cmap='gray')\n",
        "                \n",
        "                if show_labels:\n",
        "                    axs[idx].set_title(labels[idx])\n",
        "                \n",
        "                axs[idx].set(xticklabels=[], yticklabels=[], xticks=[], yticks=[])\n",
        "            \n",
        "        plt.show()\n",
        "\n",
        "        print('-'*150)\n",
        "        print(\"\\n\\n\")\n",
        "\n"
      ]
    },
    {
      "cell_type": "code",
      "execution_count": null,
      "id": "a5331cd6",
      "metadata": {
        "id": "a5331cd6",
        "outputId": "515f4595-6529-4630-8cb0-108c6fdb88d9"
      },
      "outputs": [
        {
          "data": {
            "text/plain": [
              "<Figure size 1440x720 with 0 Axes>"
            ]
          },
          "metadata": {},
          "output_type": "display_data"
        }
      ],
      "source": [
        "fig = plt.figure(figsize=(20, 10))"
      ]
    },
    {
      "cell_type": "code",
      "execution_count": null,
      "id": "183806f1",
      "metadata": {
        "id": "183806f1",
        "outputId": "07dad669-d982-44f2-f55b-8a187eced802"
      },
      "outputs": [
        {
          "data": {
            "text/plain": [
              "array([<AxesSubplot:>, <AxesSubplot:>, <AxesSubplot:>], dtype=object)"
            ]
          },
          "execution_count": 31,
          "metadata": {},
          "output_type": "execute_result"
        }
      ],
      "source": [
        "fig.subplots(nrows=3, ncols=1)"
      ]
    },
    {
      "cell_type": "code",
      "execution_count": 32,
      "id": "e482c603",
      "metadata": {
        "id": "e482c603"
      },
      "outputs": [],
      "source": [
        "# Transform Data:\n",
        "# Define relevant variables for the ML task\n",
        "batch_size = 64\n",
        "num_classes = 683\n",
        "learning_rate = 0.001\n",
        "num_epochs = 20\n",
        "\n",
        "# Device will determine whether to run the training on GPU or CPU.\n",
        "device = torch.device('cuda' if torch.cuda.is_available() else 'cpu')"
      ]
    },
    {
      "cell_type": "code",
      "execution_count": 33,
      "id": "cd5fa055",
      "metadata": {
        "id": "cd5fa055"
      },
      "outputs": [],
      "source": [
        "#train and test data directory\n",
        "data_dir = \"/content/drive/MyDrive/Herbarium Data-2019/small-train-AUG\"\n",
        "test_data_dir = \"/content/drive/MyDrive/Herbarium Data-2019/small-validation\"\n",
        "\n",
        "\n",
        "\n",
        "#load the train and test data\n",
        "train_dataset = ImageFolder(data_dir,transform = transforms.Compose([\n",
        "    transforms.Resize((256,256)),transforms.ToTensor()\n",
        "]))\n",
        "\n",
        "val_dataset = ImageFolder(test_data_dir,transforms.Compose([transforms.Resize((256,256)),transforms.ToTensor()]))\n"
      ]
    },
    {
      "cell_type": "code",
      "execution_count": 34,
      "id": "c10a79d8",
      "metadata": {
        "colab": {
          "base_uri": "https://localhost:8080/"
        },
        "id": "c10a79d8",
        "outputId": "cf2e1839-681c-4179-94c9-a98e7dd039e9"
      },
      "outputs": [
        {
          "output_type": "stream",
          "name": "stdout",
          "text": [
            "torch.Size([3, 256, 256]) 0\n"
          ]
        }
      ],
      "source": [
        "img, label = train_dataset[0]\n",
        "print(img.shape,label)"
      ]
    },
    {
      "cell_type": "code",
      "execution_count": 35,
      "id": "00140792",
      "metadata": {
        "colab": {
          "base_uri": "https://localhost:8080/"
        },
        "id": "00140792",
        "outputId": "1e29e594-19a6-429d-f61b-c26742ffe0f4"
      },
      "outputs": [
        {
          "output_type": "stream",
          "name": "stdout",
          "text": [
            "Length of Train Data : 34225\n",
            "Length of Validation Data : 2679\n"
          ]
        }
      ],
      "source": [
        "from torch.utils.data.dataloader import DataLoader\n",
        "from torch.utils.data import random_split\n",
        "\n",
        "batch_size = 128\n",
        "val_size = len(val_dataset)\n",
        "train_size = len(train_dataset) - val_size \n",
        "\n",
        "train_data,val_data = random_split(train_dataset,[train_size,val_size])\n",
        "print(f\"Length of Train Data : {len(train_dataset)}\")\n",
        "print(f\"Length of Validation Data : {len(val_data)}\")\n"
      ]
    },
    {
      "cell_type": "code",
      "execution_count": 36,
      "id": "e58aa448",
      "metadata": {
        "id": "e58aa448"
      },
      "outputs": [],
      "source": [
        "#load the train and validation into batches.\n",
        "train_loader = DataLoader(train_data, batch_size, shuffle = True, num_workers = 4, pin_memory = True)\n",
        "val_loader = DataLoader(val_data, batch_size*2, num_workers = 4, pin_memory = True)\n"
      ]
    },
    {
      "cell_type": "code",
      "execution_count": 37,
      "id": "7fb74817",
      "metadata": {
        "id": "7fb74817"
      },
      "outputs": [],
      "source": [
        "class CNN(nn.Module):\n",
        "    def __init__(self):\n",
        "        super().__init__()\n",
        "        \n",
        "        self.cnn_block1 = nn.Sequential(\n",
        "            nn.Conv2d(in_channels=3, out_channels=32, kernel_size=3, stride=2, padding=0, dilation=1, groups=1, bias=False), # output shape = (batch, 32, 13, 13)\n",
        "            nn.BatchNorm2d(num_features=32),\n",
        "            nn.ReLU()\n",
        "        )\n",
        "        self.cnn_block2 = nn.Sequential(\n",
        "            nn.Conv2d(in_channels=32, out_channels=64, kernel_size=3, stride=1, padding=0, dilation=1, groups=1, bias=False), # output shape = (batch, 64, 11, 11)\n",
        "            nn.BatchNorm2d(num_features=64),\n",
        "            nn.ReLU()\n",
        "        )\n",
        "        self.cnn_block3 = nn.Sequential(\n",
        "            nn.Conv2d(in_channels=64, out_channels=128, kernel_size=3, stride=1, padding=0, dilation=1, groups=1, bias=False), # output shape = (batch, 128, 9, 9)\n",
        "            nn.BatchNorm2d(num_features=128),\n",
        "            nn.ReLU()\n",
        "        )\n",
        "        \n",
        "        self.fc_layer = nn.Linear(1936512, 10)\n",
        "        \n",
        "        #205x1936512 and 10368x10\n",
        "    \n",
        "    def forward(self, x):\n",
        "        x = self.cnn_block1(x)\n",
        "        x = self.cnn_block2(x)\n",
        "        x = self.cnn_block3(x)\n",
        "\n",
        "        # flatten the processed tensor for linear layer\n",
        "        x = x.view(x.shape[0], -1) # (batch, 128*9*9)\n",
        "        # now we can pass the data to the linear layer\n",
        "        out = self.fc_layer(x)\n",
        "        return out"
      ]
    },
    {
      "cell_type": "code",
      "source": [
        "class CNN(nn.Module):\n",
        "    def __init__(self):\n",
        "        super().__init__()\n",
        "        \n",
        "        self.cnn_block1 = nn.Sequential(\n",
        "            nn.Conv2d(in_channels=3, out_channels=32, kernel_size=3, stride=2, padding=0, dilation=1, groups=1, bias=False), # output shape = (batch, 32, 13, 13)\n",
        "            nn.BatchNorm2d(num_features=32),\n",
        "            nn.ReLU()\n",
        "        )\n",
        "        self.cnn_block2 = nn.Sequential(\n",
        "            nn.Conv2d(in_channels=32, out_channels=64, kernel_size=3, stride=1, padding=0, dilation=1, groups=1, bias=False), # output shape = (batch, 64, 11, 11)\n",
        "            nn.BatchNorm2d(num_features=64),\n",
        "            nn.ReLU()\n",
        "        )\n",
        "        self.cnn_block3 = nn.Sequential(\n",
        "            nn.Conv2d(in_channels=64, out_channels=128, kernel_size=3, stride=1, padding=0, dilation=1, groups=1, bias=False), # output shape = (batch, 128, 9, 9)\n",
        "            nn.BatchNorm2d(num_features=128),\n",
        "            nn.ReLU()\n",
        "        )\n",
        "        \n",
        "        self.fc_layer = nn.Linear(1936512, 10)\n",
        "    \n",
        "    def forward(self, x):\n",
        "        x = self.cnn_block1(x)\n",
        "        x = self.cnn_block2(x)\n",
        "        x = self.cnn_block3(x)\n",
        "\n",
        "        # flatten the processed tensor for linear layer\n",
        "        x = x.view(x.shape[0], -1) # (batch, 128*9*9)\n",
        "        # now we can pass the data to the linear layer\n",
        "        out = self.fc_layer(x)\n",
        "        return out"
      ],
      "metadata": {
        "id": "1VhVPUFI_FSR"
      },
      "id": "1VhVPUFI_FSR",
      "execution_count": 38,
      "outputs": []
    },
    {
      "cell_type": "code",
      "source": [
        "#torch.backends.cudnn.enabled = False\n",
        "loss_fn = nn.CrossEntropyLoss\n",
        "optimizer = torch.optim.Adam\n",
        "model_ = CNN\n",
        "device = torch.device('cuda:0' if torch.cuda.is_available() else 'cpu')\n",
        "\n",
        "print(\"Training on \", device)\n",
        "\n",
        "training_losses, validation_losses = train_cv(model_, loss_fn, optimizer, dataset=train_dataset, device=device, epochs=10, lr=1e-3)\n",
        "\n",
        "for fold_idx, (train_losses, val_losses) in enumerate(zip(training_losses, validation_losses), 1):\n",
        "    plt.title(f'FOLD: {fold_idx}')\n",
        "    plt.plot(train_losses, label='training loss')\n",
        "    plt.plot(val_losses, label='validation loss')\n",
        "    plt.legend()\n",
        "    plt.show()\n",
        "\n",
        "print('total allocated gpu memory (pytorch):', torch.cuda.memory_allocated())"
      ],
      "metadata": {
        "colab": {
          "base_uri": "https://localhost:8080/",
          "height": 568
        },
        "id": "pp0Ww6LU_VHj",
        "outputId": "360cd645-85b3-49f3-9b4b-15a18a5a2c1b"
      },
      "id": "pp0Ww6LU_VHj",
      "execution_count": 39,
      "outputs": [
        {
          "output_type": "stream",
          "name": "stdout",
          "text": [
            "Training on  cuda:0\n",
            "CURRENT FOLD: 1\n",
            "Number of samples\n",
            "Training: 27380\n",
            "Validation: 6845\n"
          ]
        },
        {
          "output_type": "stream",
          "name": "stderr",
          "text": [
            "  0%|          | 0/107 [04:41<?, ?it/s]\n"
          ]
        },
        {
          "output_type": "error",
          "ename": "RuntimeError",
          "evalue": "ignored",
          "traceback": [
            "\u001b[0;31m---------------------------------------------------------------------------\u001b[0m",
            "\u001b[0;31mRuntimeError\u001b[0m                              Traceback (most recent call last)",
            "\u001b[0;32m<ipython-input-39-380d3fab563f>\u001b[0m in \u001b[0;36m<module>\u001b[0;34m\u001b[0m\n\u001b[1;32m      7\u001b[0m \u001b[0mprint\u001b[0m\u001b[0;34m(\u001b[0m\u001b[0;34m\"Training on \"\u001b[0m\u001b[0;34m,\u001b[0m \u001b[0mdevice\u001b[0m\u001b[0;34m)\u001b[0m\u001b[0;34m\u001b[0m\u001b[0;34m\u001b[0m\u001b[0m\n\u001b[1;32m      8\u001b[0m \u001b[0;34m\u001b[0m\u001b[0m\n\u001b[0;32m----> 9\u001b[0;31m \u001b[0mtraining_losses\u001b[0m\u001b[0;34m,\u001b[0m \u001b[0mvalidation_losses\u001b[0m \u001b[0;34m=\u001b[0m \u001b[0mtrain_cv\u001b[0m\u001b[0;34m(\u001b[0m\u001b[0mmodel_\u001b[0m\u001b[0;34m,\u001b[0m \u001b[0mloss_fn\u001b[0m\u001b[0;34m,\u001b[0m \u001b[0moptimizer\u001b[0m\u001b[0;34m,\u001b[0m \u001b[0mdataset\u001b[0m\u001b[0;34m=\u001b[0m\u001b[0mtrain_dataset\u001b[0m\u001b[0;34m,\u001b[0m \u001b[0mdevice\u001b[0m\u001b[0;34m=\u001b[0m\u001b[0mdevice\u001b[0m\u001b[0;34m,\u001b[0m \u001b[0mepochs\u001b[0m\u001b[0;34m=\u001b[0m\u001b[0;36m10\u001b[0m\u001b[0;34m,\u001b[0m \u001b[0mlr\u001b[0m\u001b[0;34m=\u001b[0m\u001b[0;36m1e-3\u001b[0m\u001b[0;34m)\u001b[0m\u001b[0;34m\u001b[0m\u001b[0;34m\u001b[0m\u001b[0m\n\u001b[0m\u001b[1;32m     10\u001b[0m \u001b[0;34m\u001b[0m\u001b[0m\n\u001b[1;32m     11\u001b[0m \u001b[0;32mfor\u001b[0m \u001b[0mfold_idx\u001b[0m\u001b[0;34m,\u001b[0m \u001b[0;34m(\u001b[0m\u001b[0mtrain_losses\u001b[0m\u001b[0;34m,\u001b[0m \u001b[0mval_losses\u001b[0m\u001b[0;34m)\u001b[0m \u001b[0;32min\u001b[0m \u001b[0menumerate\u001b[0m\u001b[0;34m(\u001b[0m\u001b[0mzip\u001b[0m\u001b[0;34m(\u001b[0m\u001b[0mtraining_losses\u001b[0m\u001b[0;34m,\u001b[0m \u001b[0mvalidation_losses\u001b[0m\u001b[0;34m)\u001b[0m\u001b[0;34m,\u001b[0m \u001b[0;36m1\u001b[0m\u001b[0;34m)\u001b[0m\u001b[0;34m:\u001b[0m\u001b[0;34m\u001b[0m\u001b[0;34m\u001b[0m\u001b[0m\n",
            "\u001b[0;32m<ipython-input-30-20b7c51791cf>\u001b[0m in \u001b[0;36mtrain_cv\u001b[0;34m(model_, loss_fn_, optimizer_, dataset, batch_size, device, cv, epochs, random_state, **opt_args)\u001b[0m\n\u001b[1;32m     48\u001b[0m \u001b[0;34m\u001b[0m\u001b[0m\n\u001b[1;32m     49\u001b[0m         \u001b[0;31m# train the model using training and validation sets\u001b[0m\u001b[0;34m\u001b[0m\u001b[0;34m\u001b[0m\u001b[0;34m\u001b[0m\u001b[0m\n\u001b[0;32m---> 50\u001b[0;31m         fold_training_losses, fold_validation_losses = train(model_, loss_fn_, optimizer_,\n\u001b[0m\u001b[1;32m     51\u001b[0m                                                              \u001b[0mtrain_loader\u001b[0m\u001b[0;34m=\u001b[0m\u001b[0mtrain_loader\u001b[0m\u001b[0;34m,\u001b[0m \u001b[0mval_loader\u001b[0m\u001b[0;34m=\u001b[0m\u001b[0mval_loader\u001b[0m\u001b[0;34m,\u001b[0m\u001b[0;34m\u001b[0m\u001b[0;34m\u001b[0m\u001b[0m\n\u001b[1;32m     52\u001b[0m                                                              device=device, epochs=epochs, **opt_args)\n",
            "\u001b[0;32m<ipython-input-30-20b7c51791cf>\u001b[0m in \u001b[0;36mtrain\u001b[0;34m(model_, loss_fn_, optimizer_, train_loader, val_loader, return_model, device, epochs, **opt_args)\u001b[0m\n\u001b[1;32m    109\u001b[0m \u001b[0;34m\u001b[0m\u001b[0m\n\u001b[1;32m    110\u001b[0m             \u001b[0;31m# get the model outputs and calculate the loss\u001b[0m\u001b[0;34m\u001b[0m\u001b[0;34m\u001b[0m\u001b[0;34m\u001b[0m\u001b[0m\n\u001b[0;32m--> 111\u001b[0;31m             \u001b[0mouts\u001b[0m \u001b[0;34m=\u001b[0m \u001b[0mmodel\u001b[0m\u001b[0;34m(\u001b[0m\u001b[0mx_batch\u001b[0m\u001b[0;34m)\u001b[0m\u001b[0;34m\u001b[0m\u001b[0;34m\u001b[0m\u001b[0m\n\u001b[0m\u001b[1;32m    112\u001b[0m             \u001b[0mloss\u001b[0m \u001b[0;34m=\u001b[0m \u001b[0mloss_fn\u001b[0m\u001b[0;34m(\u001b[0m\u001b[0mouts\u001b[0m\u001b[0;34m,\u001b[0m \u001b[0my_batch\u001b[0m\u001b[0;34m)\u001b[0m\u001b[0;34m\u001b[0m\u001b[0;34m\u001b[0m\u001b[0m\n\u001b[1;32m    113\u001b[0m \u001b[0;34m\u001b[0m\u001b[0m\n",
            "\u001b[0;32m/usr/local/lib/python3.8/dist-packages/torch/nn/modules/module.py\u001b[0m in \u001b[0;36m_call_impl\u001b[0;34m(self, *input, **kwargs)\u001b[0m\n",
            "\u001b[0;32m<ipython-input-38-5077bc71f436>\u001b[0m in \u001b[0;36mforward\u001b[0;34m(self, x)\u001b[0m\n\u001b[1;32m     22\u001b[0m \u001b[0;34m\u001b[0m\u001b[0m\n\u001b[1;32m     23\u001b[0m     \u001b[0;32mdef\u001b[0m \u001b[0mforward\u001b[0m\u001b[0;34m(\u001b[0m\u001b[0mself\u001b[0m\u001b[0;34m,\u001b[0m \u001b[0mx\u001b[0m\u001b[0;34m)\u001b[0m\u001b[0;34m:\u001b[0m\u001b[0;34m\u001b[0m\u001b[0;34m\u001b[0m\u001b[0m\n\u001b[0;32m---> 24\u001b[0;31m         \u001b[0mx\u001b[0m \u001b[0;34m=\u001b[0m \u001b[0mself\u001b[0m\u001b[0;34m.\u001b[0m\u001b[0mcnn_block1\u001b[0m\u001b[0;34m(\u001b[0m\u001b[0mx\u001b[0m\u001b[0;34m)\u001b[0m\u001b[0;34m\u001b[0m\u001b[0;34m\u001b[0m\u001b[0m\n\u001b[0m\u001b[1;32m     25\u001b[0m         \u001b[0mx\u001b[0m \u001b[0;34m=\u001b[0m \u001b[0mself\u001b[0m\u001b[0;34m.\u001b[0m\u001b[0mcnn_block2\u001b[0m\u001b[0;34m(\u001b[0m\u001b[0mx\u001b[0m\u001b[0;34m)\u001b[0m\u001b[0;34m\u001b[0m\u001b[0;34m\u001b[0m\u001b[0m\n\u001b[1;32m     26\u001b[0m         \u001b[0mx\u001b[0m \u001b[0;34m=\u001b[0m \u001b[0mself\u001b[0m\u001b[0;34m.\u001b[0m\u001b[0mcnn_block3\u001b[0m\u001b[0;34m(\u001b[0m\u001b[0mx\u001b[0m\u001b[0;34m)\u001b[0m\u001b[0;34m\u001b[0m\u001b[0;34m\u001b[0m\u001b[0m\n",
            "\u001b[0;32m/usr/local/lib/python3.8/dist-packages/torch/nn/modules/module.py\u001b[0m in \u001b[0;36m_call_impl\u001b[0;34m(self, *input, **kwargs)\u001b[0m\n",
            "\u001b[0;32m/usr/local/lib/python3.8/dist-packages/torch/nn/modules/container.py\u001b[0m in \u001b[0;36mforward\u001b[0;34m(self, input)\u001b[0m\n\u001b[1;32m    202\u001b[0m \u001b[0;34m\u001b[0m\u001b[0m\n\u001b[1;32m    203\u001b[0m         \u001b[0mArguments\u001b[0m\u001b[0;34m:\u001b[0m\u001b[0;34m\u001b[0m\u001b[0;34m\u001b[0m\u001b[0m\n\u001b[0;32m--> 204\u001b[0;31m             \u001b[0mmodules\u001b[0m \u001b[0;34m(\u001b[0m\u001b[0miterable\u001b[0m\u001b[0;34m)\u001b[0m\u001b[0;34m:\u001b[0m \u001b[0miterable\u001b[0m \u001b[0mof\u001b[0m \u001b[0mmodules\u001b[0m \u001b[0mto\u001b[0m \u001b[0mappend\u001b[0m\u001b[0;34m\u001b[0m\u001b[0;34m\u001b[0m\u001b[0m\n\u001b[0m\u001b[1;32m    205\u001b[0m         \"\"\"\n\u001b[1;32m    206\u001b[0m         \u001b[0;32mif\u001b[0m \u001b[0;32mnot\u001b[0m \u001b[0misinstance\u001b[0m\u001b[0;34m(\u001b[0m\u001b[0mmodules\u001b[0m\u001b[0;34m,\u001b[0m \u001b[0mcontainer_abcs\u001b[0m\u001b[0;34m.\u001b[0m\u001b[0mIterable\u001b[0m\u001b[0;34m)\u001b[0m\u001b[0;34m:\u001b[0m\u001b[0;34m\u001b[0m\u001b[0;34m\u001b[0m\u001b[0m\n",
            "\u001b[0;32m/usr/local/lib/python3.8/dist-packages/torch/nn/modules/module.py\u001b[0m in \u001b[0;36m_call_impl\u001b[0;34m(self, *input, **kwargs)\u001b[0m\n",
            "\u001b[0;32m/usr/local/lib/python3.8/dist-packages/torch/nn/modules/conv.py\u001b[0m in \u001b[0;36mforward\u001b[0;34m(self, input)\u001b[0m\n\u001b[1;32m    461\u001b[0m                  \u001b[0mpadding\u001b[0m\u001b[0;34m=\u001b[0m\u001b[0;36m0\u001b[0m\u001b[0;34m,\u001b[0m \u001b[0mdilation\u001b[0m\u001b[0;34m=\u001b[0m\u001b[0;36m1\u001b[0m\u001b[0;34m,\u001b[0m \u001b[0mgroups\u001b[0m\u001b[0;34m=\u001b[0m\u001b[0;36m1\u001b[0m\u001b[0;34m,\u001b[0m\u001b[0;34m\u001b[0m\u001b[0;34m\u001b[0m\u001b[0m\n\u001b[1;32m    462\u001b[0m                  bias=True, padding_mode='zeros'):\n\u001b[0;32m--> 463\u001b[0;31m         \u001b[0mkernel_size\u001b[0m \u001b[0;34m=\u001b[0m \u001b[0m_triple\u001b[0m\u001b[0;34m(\u001b[0m\u001b[0mkernel_size\u001b[0m\u001b[0;34m)\u001b[0m\u001b[0;34m\u001b[0m\u001b[0;34m\u001b[0m\u001b[0m\n\u001b[0m\u001b[1;32m    464\u001b[0m         \u001b[0mstride\u001b[0m \u001b[0;34m=\u001b[0m \u001b[0m_triple\u001b[0m\u001b[0;34m(\u001b[0m\u001b[0mstride\u001b[0m\u001b[0;34m)\u001b[0m\u001b[0;34m\u001b[0m\u001b[0;34m\u001b[0m\u001b[0m\n\u001b[1;32m    465\u001b[0m         \u001b[0mpadding\u001b[0m \u001b[0;34m=\u001b[0m \u001b[0m_triple\u001b[0m\u001b[0;34m(\u001b[0m\u001b[0mpadding\u001b[0m\u001b[0;34m)\u001b[0m\u001b[0;34m\u001b[0m\u001b[0;34m\u001b[0m\u001b[0m\n",
            "\u001b[0;32m/usr/local/lib/python3.8/dist-packages/torch/nn/modules/conv.py\u001b[0m in \u001b[0;36m_conv_forward\u001b[0;34m(self, input, weight, bias)\u001b[0m\n\u001b[1;32m    457\u001b[0m     \u001b[0;34m.\u001b[0m\u001b[0;34m.\u001b[0m \u001b[0m_link\u001b[0m\u001b[0;34m:\u001b[0m\u001b[0;34m\u001b[0m\u001b[0;34m\u001b[0m\u001b[0m\n\u001b[1;32m    458\u001b[0m         \u001b[0mhttps\u001b[0m\u001b[0;34m:\u001b[0m\u001b[0;34m//\u001b[0m\u001b[0mgithub\u001b[0m\u001b[0;34m.\u001b[0m\u001b[0mcom\u001b[0m\u001b[0;34m/\u001b[0m\u001b[0mvdumoulin\u001b[0m\u001b[0;34m/\u001b[0m\u001b[0mconv_arithmetic\u001b[0m\u001b[0;34m/\u001b[0m\u001b[0mblob\u001b[0m\u001b[0;34m/\u001b[0m\u001b[0mmaster\u001b[0m\u001b[0;34m/\u001b[0m\u001b[0mREADME\u001b[0m\u001b[0;34m.\u001b[0m\u001b[0mmd\u001b[0m\u001b[0;34m\u001b[0m\u001b[0;34m\u001b[0m\u001b[0m\n\u001b[0;32m--> 459\u001b[0;31m     \"\"\"\n\u001b[0m\u001b[1;32m    460\u001b[0m     def __init__(self, in_channels, out_channels, kernel_size, stride=1,\n\u001b[1;32m    461\u001b[0m                  \u001b[0mpadding\u001b[0m\u001b[0;34m=\u001b[0m\u001b[0;36m0\u001b[0m\u001b[0;34m,\u001b[0m \u001b[0mdilation\u001b[0m\u001b[0;34m=\u001b[0m\u001b[0;36m1\u001b[0m\u001b[0;34m,\u001b[0m \u001b[0mgroups\u001b[0m\u001b[0;34m=\u001b[0m\u001b[0;36m1\u001b[0m\u001b[0;34m,\u001b[0m\u001b[0;34m\u001b[0m\u001b[0;34m\u001b[0m\u001b[0m\n",
            "\u001b[0;31mRuntimeError\u001b[0m: CUDA error: CUBLAS_STATUS_EXECUTION_FAILED when calling `cublasSgemm( handle, opa, opb, m, n, k, &alpha, a, lda, b, ldb, &beta, c, ldc)`"
          ]
        }
      ]
    },
    {
      "cell_type": "code",
      "execution_count": 40,
      "id": "5e477500",
      "metadata": {
        "colab": {
          "base_uri": "https://localhost:8080/",
          "height": 568
        },
        "id": "5e477500",
        "outputId": "cf6a997e-738b-44b7-be6f-b4956c76a41d"
      },
      "outputs": [
        {
          "output_type": "stream",
          "name": "stdout",
          "text": [
            "Training on  cuda:0\n",
            "CURRENT FOLD: 1\n",
            "Number of samples\n",
            "Training: 27380\n",
            "Validation: 6845\n"
          ]
        },
        {
          "output_type": "stream",
          "name": "stderr",
          "text": [
            "  0%|          | 0/107 [00:50<?, ?it/s]\n"
          ]
        },
        {
          "output_type": "error",
          "ename": "RuntimeError",
          "evalue": "ignored",
          "traceback": [
            "\u001b[0;31m---------------------------------------------------------------------------\u001b[0m",
            "\u001b[0;31mRuntimeError\u001b[0m                              Traceback (most recent call last)",
            "\u001b[0;32m<ipython-input-40-05e06cc45231>\u001b[0m in \u001b[0;36m<module>\u001b[0;34m\u001b[0m\n\u001b[1;32m      6\u001b[0m \u001b[0mprint\u001b[0m\u001b[0;34m(\u001b[0m\u001b[0;34m\"Training on \"\u001b[0m\u001b[0;34m,\u001b[0m \u001b[0mdevice\u001b[0m\u001b[0;34m)\u001b[0m\u001b[0;34m\u001b[0m\u001b[0;34m\u001b[0m\u001b[0m\n\u001b[1;32m      7\u001b[0m \u001b[0;34m\u001b[0m\u001b[0m\n\u001b[0;32m----> 8\u001b[0;31m \u001b[0mtraining_losses\u001b[0m\u001b[0;34m,\u001b[0m \u001b[0mvalidation_losses\u001b[0m \u001b[0;34m=\u001b[0m \u001b[0mtrain_cv\u001b[0m\u001b[0;34m(\u001b[0m\u001b[0mmodel_\u001b[0m\u001b[0;34m,\u001b[0m \u001b[0mloss_fn\u001b[0m\u001b[0;34m,\u001b[0m \u001b[0moptimizer\u001b[0m\u001b[0;34m,\u001b[0m \u001b[0mdataset\u001b[0m\u001b[0;34m=\u001b[0m\u001b[0mtrain_dataset\u001b[0m\u001b[0;34m,\u001b[0m \u001b[0mdevice\u001b[0m\u001b[0;34m=\u001b[0m\u001b[0mdevice\u001b[0m\u001b[0;34m,\u001b[0m \u001b[0mepochs\u001b[0m\u001b[0;34m=\u001b[0m\u001b[0;36m10\u001b[0m\u001b[0;34m,\u001b[0m \u001b[0mlr\u001b[0m\u001b[0;34m=\u001b[0m\u001b[0;36m1e-3\u001b[0m\u001b[0;34m)\u001b[0m\u001b[0;34m\u001b[0m\u001b[0;34m\u001b[0m\u001b[0m\n\u001b[0m\u001b[1;32m      9\u001b[0m \u001b[0;34m\u001b[0m\u001b[0m\n\u001b[1;32m     10\u001b[0m \u001b[0;32mfor\u001b[0m \u001b[0mfold_idx\u001b[0m\u001b[0;34m,\u001b[0m \u001b[0;34m(\u001b[0m\u001b[0mtrain_losses\u001b[0m\u001b[0;34m,\u001b[0m \u001b[0mval_losses\u001b[0m\u001b[0;34m)\u001b[0m \u001b[0;32min\u001b[0m \u001b[0menumerate\u001b[0m\u001b[0;34m(\u001b[0m\u001b[0mzip\u001b[0m\u001b[0;34m(\u001b[0m\u001b[0mtraining_losses\u001b[0m\u001b[0;34m,\u001b[0m \u001b[0mvalidation_losses\u001b[0m\u001b[0;34m)\u001b[0m\u001b[0;34m,\u001b[0m \u001b[0;36m1\u001b[0m\u001b[0;34m)\u001b[0m\u001b[0;34m:\u001b[0m\u001b[0;34m\u001b[0m\u001b[0;34m\u001b[0m\u001b[0m\n",
            "\u001b[0;32m<ipython-input-30-20b7c51791cf>\u001b[0m in \u001b[0;36mtrain_cv\u001b[0;34m(model_, loss_fn_, optimizer_, dataset, batch_size, device, cv, epochs, random_state, **opt_args)\u001b[0m\n\u001b[1;32m     48\u001b[0m \u001b[0;34m\u001b[0m\u001b[0m\n\u001b[1;32m     49\u001b[0m         \u001b[0;31m# train the model using training and validation sets\u001b[0m\u001b[0;34m\u001b[0m\u001b[0;34m\u001b[0m\u001b[0;34m\u001b[0m\u001b[0m\n\u001b[0;32m---> 50\u001b[0;31m         fold_training_losses, fold_validation_losses = train(model_, loss_fn_, optimizer_,\n\u001b[0m\u001b[1;32m     51\u001b[0m                                                              \u001b[0mtrain_loader\u001b[0m\u001b[0;34m=\u001b[0m\u001b[0mtrain_loader\u001b[0m\u001b[0;34m,\u001b[0m \u001b[0mval_loader\u001b[0m\u001b[0;34m=\u001b[0m\u001b[0mval_loader\u001b[0m\u001b[0;34m,\u001b[0m\u001b[0;34m\u001b[0m\u001b[0;34m\u001b[0m\u001b[0m\n\u001b[1;32m     52\u001b[0m                                                              device=device, epochs=epochs, **opt_args)\n",
            "\u001b[0;32m<ipython-input-30-20b7c51791cf>\u001b[0m in \u001b[0;36mtrain\u001b[0;34m(model_, loss_fn_, optimizer_, train_loader, val_loader, return_model, device, epochs, **opt_args)\u001b[0m\n\u001b[1;32m    109\u001b[0m \u001b[0;34m\u001b[0m\u001b[0m\n\u001b[1;32m    110\u001b[0m             \u001b[0;31m# get the model outputs and calculate the loss\u001b[0m\u001b[0;34m\u001b[0m\u001b[0;34m\u001b[0m\u001b[0;34m\u001b[0m\u001b[0m\n\u001b[0;32m--> 111\u001b[0;31m             \u001b[0mouts\u001b[0m \u001b[0;34m=\u001b[0m \u001b[0mmodel\u001b[0m\u001b[0;34m(\u001b[0m\u001b[0mx_batch\u001b[0m\u001b[0;34m)\u001b[0m\u001b[0;34m\u001b[0m\u001b[0;34m\u001b[0m\u001b[0m\n\u001b[0m\u001b[1;32m    112\u001b[0m             \u001b[0mloss\u001b[0m \u001b[0;34m=\u001b[0m \u001b[0mloss_fn\u001b[0m\u001b[0;34m(\u001b[0m\u001b[0mouts\u001b[0m\u001b[0;34m,\u001b[0m \u001b[0my_batch\u001b[0m\u001b[0;34m)\u001b[0m\u001b[0;34m\u001b[0m\u001b[0;34m\u001b[0m\u001b[0m\n\u001b[1;32m    113\u001b[0m \u001b[0;34m\u001b[0m\u001b[0m\n",
            "\u001b[0;32m/usr/local/lib/python3.8/dist-packages/torch/nn/modules/module.py\u001b[0m in \u001b[0;36m_call_impl\u001b[0;34m(self, *input, **kwargs)\u001b[0m\n",
            "\u001b[0;32m<ipython-input-38-5077bc71f436>\u001b[0m in \u001b[0;36mforward\u001b[0;34m(self, x)\u001b[0m\n\u001b[1;32m     22\u001b[0m \u001b[0;34m\u001b[0m\u001b[0m\n\u001b[1;32m     23\u001b[0m     \u001b[0;32mdef\u001b[0m \u001b[0mforward\u001b[0m\u001b[0;34m(\u001b[0m\u001b[0mself\u001b[0m\u001b[0;34m,\u001b[0m \u001b[0mx\u001b[0m\u001b[0;34m)\u001b[0m\u001b[0;34m:\u001b[0m\u001b[0;34m\u001b[0m\u001b[0;34m\u001b[0m\u001b[0m\n\u001b[0;32m---> 24\u001b[0;31m         \u001b[0mx\u001b[0m \u001b[0;34m=\u001b[0m \u001b[0mself\u001b[0m\u001b[0;34m.\u001b[0m\u001b[0mcnn_block1\u001b[0m\u001b[0;34m(\u001b[0m\u001b[0mx\u001b[0m\u001b[0;34m)\u001b[0m\u001b[0;34m\u001b[0m\u001b[0;34m\u001b[0m\u001b[0m\n\u001b[0m\u001b[1;32m     25\u001b[0m         \u001b[0mx\u001b[0m \u001b[0;34m=\u001b[0m \u001b[0mself\u001b[0m\u001b[0;34m.\u001b[0m\u001b[0mcnn_block2\u001b[0m\u001b[0;34m(\u001b[0m\u001b[0mx\u001b[0m\u001b[0;34m)\u001b[0m\u001b[0;34m\u001b[0m\u001b[0;34m\u001b[0m\u001b[0m\n\u001b[1;32m     26\u001b[0m         \u001b[0mx\u001b[0m \u001b[0;34m=\u001b[0m \u001b[0mself\u001b[0m\u001b[0;34m.\u001b[0m\u001b[0mcnn_block3\u001b[0m\u001b[0;34m(\u001b[0m\u001b[0mx\u001b[0m\u001b[0;34m)\u001b[0m\u001b[0;34m\u001b[0m\u001b[0;34m\u001b[0m\u001b[0m\n",
            "\u001b[0;32m/usr/local/lib/python3.8/dist-packages/torch/nn/modules/module.py\u001b[0m in \u001b[0;36m_call_impl\u001b[0;34m(self, *input, **kwargs)\u001b[0m\n",
            "\u001b[0;32m/usr/local/lib/python3.8/dist-packages/torch/nn/modules/container.py\u001b[0m in \u001b[0;36mforward\u001b[0;34m(self, input)\u001b[0m\n\u001b[1;32m    202\u001b[0m \u001b[0;34m\u001b[0m\u001b[0m\n\u001b[1;32m    203\u001b[0m         \u001b[0mArguments\u001b[0m\u001b[0;34m:\u001b[0m\u001b[0;34m\u001b[0m\u001b[0;34m\u001b[0m\u001b[0m\n\u001b[0;32m--> 204\u001b[0;31m             \u001b[0mmodules\u001b[0m \u001b[0;34m(\u001b[0m\u001b[0miterable\u001b[0m\u001b[0;34m)\u001b[0m\u001b[0;34m:\u001b[0m \u001b[0miterable\u001b[0m \u001b[0mof\u001b[0m \u001b[0mmodules\u001b[0m \u001b[0mto\u001b[0m \u001b[0mappend\u001b[0m\u001b[0;34m\u001b[0m\u001b[0;34m\u001b[0m\u001b[0m\n\u001b[0m\u001b[1;32m    205\u001b[0m         \"\"\"\n\u001b[1;32m    206\u001b[0m         \u001b[0;32mif\u001b[0m \u001b[0;32mnot\u001b[0m \u001b[0misinstance\u001b[0m\u001b[0;34m(\u001b[0m\u001b[0mmodules\u001b[0m\u001b[0;34m,\u001b[0m \u001b[0mcontainer_abcs\u001b[0m\u001b[0;34m.\u001b[0m\u001b[0mIterable\u001b[0m\u001b[0;34m)\u001b[0m\u001b[0;34m:\u001b[0m\u001b[0;34m\u001b[0m\u001b[0;34m\u001b[0m\u001b[0m\n",
            "\u001b[0;32m/usr/local/lib/python3.8/dist-packages/torch/nn/modules/module.py\u001b[0m in \u001b[0;36m_call_impl\u001b[0;34m(self, *input, **kwargs)\u001b[0m\n",
            "\u001b[0;32m/usr/local/lib/python3.8/dist-packages/torch/nn/modules/conv.py\u001b[0m in \u001b[0;36mforward\u001b[0;34m(self, input)\u001b[0m\n\u001b[1;32m    461\u001b[0m                  \u001b[0mpadding\u001b[0m\u001b[0;34m=\u001b[0m\u001b[0;36m0\u001b[0m\u001b[0;34m,\u001b[0m \u001b[0mdilation\u001b[0m\u001b[0;34m=\u001b[0m\u001b[0;36m1\u001b[0m\u001b[0;34m,\u001b[0m \u001b[0mgroups\u001b[0m\u001b[0;34m=\u001b[0m\u001b[0;36m1\u001b[0m\u001b[0;34m,\u001b[0m\u001b[0;34m\u001b[0m\u001b[0;34m\u001b[0m\u001b[0m\n\u001b[1;32m    462\u001b[0m                  bias=True, padding_mode='zeros'):\n\u001b[0;32m--> 463\u001b[0;31m         \u001b[0mkernel_size\u001b[0m \u001b[0;34m=\u001b[0m \u001b[0m_triple\u001b[0m\u001b[0;34m(\u001b[0m\u001b[0mkernel_size\u001b[0m\u001b[0;34m)\u001b[0m\u001b[0;34m\u001b[0m\u001b[0;34m\u001b[0m\u001b[0m\n\u001b[0m\u001b[1;32m    464\u001b[0m         \u001b[0mstride\u001b[0m \u001b[0;34m=\u001b[0m \u001b[0m_triple\u001b[0m\u001b[0;34m(\u001b[0m\u001b[0mstride\u001b[0m\u001b[0;34m)\u001b[0m\u001b[0;34m\u001b[0m\u001b[0;34m\u001b[0m\u001b[0m\n\u001b[1;32m    465\u001b[0m         \u001b[0mpadding\u001b[0m \u001b[0;34m=\u001b[0m \u001b[0m_triple\u001b[0m\u001b[0;34m(\u001b[0m\u001b[0mpadding\u001b[0m\u001b[0;34m)\u001b[0m\u001b[0;34m\u001b[0m\u001b[0;34m\u001b[0m\u001b[0m\n",
            "\u001b[0;32m/usr/local/lib/python3.8/dist-packages/torch/nn/modules/conv.py\u001b[0m in \u001b[0;36m_conv_forward\u001b[0;34m(self, input, weight, bias)\u001b[0m\n\u001b[1;32m    457\u001b[0m     \u001b[0;34m.\u001b[0m\u001b[0;34m.\u001b[0m \u001b[0m_link\u001b[0m\u001b[0;34m:\u001b[0m\u001b[0;34m\u001b[0m\u001b[0;34m\u001b[0m\u001b[0m\n\u001b[1;32m    458\u001b[0m         \u001b[0mhttps\u001b[0m\u001b[0;34m:\u001b[0m\u001b[0;34m//\u001b[0m\u001b[0mgithub\u001b[0m\u001b[0;34m.\u001b[0m\u001b[0mcom\u001b[0m\u001b[0;34m/\u001b[0m\u001b[0mvdumoulin\u001b[0m\u001b[0;34m/\u001b[0m\u001b[0mconv_arithmetic\u001b[0m\u001b[0;34m/\u001b[0m\u001b[0mblob\u001b[0m\u001b[0;34m/\u001b[0m\u001b[0mmaster\u001b[0m\u001b[0;34m/\u001b[0m\u001b[0mREADME\u001b[0m\u001b[0;34m.\u001b[0m\u001b[0mmd\u001b[0m\u001b[0;34m\u001b[0m\u001b[0;34m\u001b[0m\u001b[0m\n\u001b[0;32m--> 459\u001b[0;31m     \"\"\"\n\u001b[0m\u001b[1;32m    460\u001b[0m     def __init__(self, in_channels, out_channels, kernel_size, stride=1,\n\u001b[1;32m    461\u001b[0m                  \u001b[0mpadding\u001b[0m\u001b[0;34m=\u001b[0m\u001b[0;36m0\u001b[0m\u001b[0;34m,\u001b[0m \u001b[0mdilation\u001b[0m\u001b[0;34m=\u001b[0m\u001b[0;36m1\u001b[0m\u001b[0;34m,\u001b[0m \u001b[0mgroups\u001b[0m\u001b[0;34m=\u001b[0m\u001b[0;36m1\u001b[0m\u001b[0;34m,\u001b[0m\u001b[0;34m\u001b[0m\u001b[0;34m\u001b[0m\u001b[0m\n",
            "\u001b[0;31mRuntimeError\u001b[0m: CUDA error: CUBLAS_STATUS_EXECUTION_FAILED when calling `cublasSgemm( handle, opa, opb, m, n, k, &alpha, a, lda, b, ldb, &beta, c, ldc)`"
          ]
        }
      ],
      "source": [
        "\n",
        "loss_fn = nn.CrossEntropyLoss\n",
        "optimizer = torch.optim.Adam\n",
        "model_ = CNN\n",
        "device = torch.device('cuda:0' if torch.cuda.is_available() else 'cpu')\n",
        "\n",
        "print(\"Training on \", device)\n",
        "\n",
        "training_losses, validation_losses = train_cv(model_, loss_fn, optimizer, dataset=train_dataset, device=device, epochs=10, lr=1e-3)\n",
        "\n",
        "for fold_idx, (train_losses, val_losses) in enumerate(zip(training_losses, validation_losses), 1):\n",
        "    plt.title(f'FOLD: {fold_idx}')\n",
        "    plt.plot(train_losses, label='training loss')\n",
        "    plt.plot(val_losses, label='validation loss')\n",
        "    plt.legend()\n",
        "    plt.show()\n",
        "\n",
        "print('total allocated gpu memory (pytorch):', torch.cuda.memory_allocated())\n"
      ]
    },
    {
      "cell_type": "code",
      "execution_count": null,
      "id": "1514d099",
      "metadata": {
        "id": "1514d099",
        "outputId": "92ef0709-a823-44f1-c3c4-3f2c44d7c2ba"
      },
      "outputs": [
        {
          "name": "stderr",
          "output_type": "stream",
          "text": [
            "\r",
            "  0%|          | 0/1 [00:00<?, ?it/s]"
          ]
        },
        {
          "name": "stdout",
          "output_type": "stream",
          "text": [
            "Number of samples\n",
            "Training: 257\n",
            "Validation: 19\n"
          ]
        },
        {
          "name": "stderr",
          "output_type": "stream",
          "text": [
            "100%|██████████| 1/1 [02:58<00:00, 178.36s/it]\n",
            "100%|██████████| 1/1 [00:02<00:00,  2.01s/it]\n",
            "  0%|          | 0/1 [00:00<?, ?it/s]"
          ]
        },
        {
          "name": "stdout",
          "output_type": "stream",
          "text": [
            "epoch 1/10 | avg. training loss: 2.038, avg. validation loss: 5.664\n"
          ]
        },
        {
          "name": "stderr",
          "output_type": "stream",
          "text": [
            "100%|██████████| 1/1 [02:32<00:00, 152.33s/it]\n",
            "100%|██████████| 1/1 [00:02<00:00,  2.64s/it]\n",
            "  0%|          | 0/1 [00:00<?, ?it/s]"
          ]
        },
        {
          "name": "stdout",
          "output_type": "stream",
          "text": [
            "epoch 2/10 | avg. training loss: 54.032, avg. validation loss: 6.788\n"
          ]
        },
        {
          "name": "stderr",
          "output_type": "stream",
          "text": [
            "100%|██████████| 1/1 [02:35<00:00, 155.19s/it]\n",
            "100%|██████████| 1/1 [00:01<00:00,  1.86s/it]\n",
            "  0%|          | 0/1 [00:00<?, ?it/s]"
          ]
        },
        {
          "name": "stdout",
          "output_type": "stream",
          "text": [
            "epoch 3/10 | avg. training loss: 40.467, avg. validation loss: 6.537\n"
          ]
        },
        {
          "name": "stderr",
          "output_type": "stream",
          "text": [
            "100%|██████████| 1/1 [02:43<00:00, 163.49s/it]\n",
            "100%|██████████| 1/1 [00:01<00:00,  1.78s/it]\n",
            "  0%|          | 0/1 [00:00<?, ?it/s]"
          ]
        },
        {
          "name": "stdout",
          "output_type": "stream",
          "text": [
            "epoch 4/10 | avg. training loss: 12.705, avg. validation loss: 5.198\n"
          ]
        },
        {
          "name": "stderr",
          "output_type": "stream",
          "text": [
            "100%|██████████| 1/1 [02:40<00:00, 160.70s/it]\n",
            "100%|██████████| 1/1 [00:01<00:00,  1.74s/it]\n",
            "  0%|          | 0/1 [00:00<?, ?it/s]"
          ]
        },
        {
          "name": "stdout",
          "output_type": "stream",
          "text": [
            "epoch 5/10 | avg. training loss: 4.436, avg. validation loss: 3.076\n"
          ]
        },
        {
          "name": "stderr",
          "output_type": "stream",
          "text": [
            "100%|██████████| 1/1 [02:41<00:00, 161.84s/it]\n",
            "100%|██████████| 1/1 [00:01<00:00,  1.75s/it]\n",
            "  0%|          | 0/1 [00:00<?, ?it/s]"
          ]
        },
        {
          "name": "stdout",
          "output_type": "stream",
          "text": [
            "epoch 6/10 | avg. training loss: 5.150, avg. validation loss: 1.502\n"
          ]
        },
        {
          "name": "stderr",
          "output_type": "stream",
          "text": [
            "100%|██████████| 1/1 [03:25<00:00, 205.17s/it]\n",
            "100%|██████████| 1/1 [00:02<00:00,  2.85s/it]\n",
            "  0%|          | 0/1 [00:00<?, ?it/s]"
          ]
        },
        {
          "name": "stdout",
          "output_type": "stream",
          "text": [
            "epoch 7/10 | avg. training loss: 2.125, avg. validation loss: 0.930\n"
          ]
        },
        {
          "name": "stderr",
          "output_type": "stream",
          "text": [
            "100%|██████████| 1/1 [03:03<00:00, 183.57s/it]\n",
            "100%|██████████| 1/1 [00:02<00:00,  2.04s/it]\n",
            "  0%|          | 0/1 [00:00<?, ?it/s]"
          ]
        },
        {
          "name": "stdout",
          "output_type": "stream",
          "text": [
            "epoch 8/10 | avg. training loss: 0.898, avg. validation loss: 0.192\n"
          ]
        },
        {
          "name": "stderr",
          "output_type": "stream",
          "text": [
            "100%|██████████| 1/1 [02:43<00:00, 163.65s/it]\n",
            "100%|██████████| 1/1 [00:02<00:00,  2.35s/it]\n",
            "  0%|          | 0/1 [00:00<?, ?it/s]"
          ]
        },
        {
          "name": "stdout",
          "output_type": "stream",
          "text": [
            "epoch 9/10 | avg. training loss: 0.509, avg. validation loss: 0.002\n"
          ]
        },
        {
          "name": "stderr",
          "output_type": "stream",
          "text": [
            "100%|██████████| 1/1 [02:54<00:00, 174.06s/it]\n",
            "100%|██████████| 1/1 [00:02<00:00,  2.07s/it]\n"
          ]
        },
        {
          "name": "stdout",
          "output_type": "stream",
          "text": [
            "epoch 10/10 | avg. training loss: 0.163, avg. validation loss: 0.002\n"
          ]
        },
        {
          "data": {
            "image/png": "[encoded data removed]",
            "text/plain": [
              "<Figure size 432x288 with 1 Axes>"
            ]
          },
          "metadata": {
            "needs_background": "light"
          },
          "output_type": "display_data"
        },
        {
          "name": "stdout",
          "output_type": "stream",
          "text": [
            "total allocated gpu memory (pytorch): 0\n"
          ]
        }
      ],
      "source": [
        "training_loader = DataLoader(train_dataset, batch_size=512, shuffle=True)\n",
        "val_loader = DataLoader(val_dataset, batch_size=512, shuffle=False)\n",
        "\n",
        "training_losses, validation_losses, model = train(model_, loss_fn, optimizer, \n",
        "                                                  training_loader, val_loader, device=device,\n",
        "                                                  return_model=True, epochs=10, lr=1e-3)\n",
        "\n",
        "plt.title('Performance')\n",
        "plt.plot(training_losses, label='training loss')\n",
        "plt.plot(validation_losses, label='validation loss')\n",
        "plt.legend()\n",
        "plt.show()\n",
        "\n",
        "print('total allocated gpu memory (pytorch):', torch.cuda.memory_allocated())"
      ]
    },
    {
      "cell_type": "code",
      "execution_count": null,
      "id": "d97a19fc",
      "metadata": {
        "id": "d97a19fc",
        "outputId": "c703b3b2-9341-4f7f-8b08-54cfdc44475d"
      },
      "outputs": [
        {
          "name": "stderr",
          "output_type": "stream",
          "text": [
            "\r",
            "  0%|          | 0/1 [00:00<?, ?it/s]"
          ]
        },
        {
          "name": "stdout",
          "output_type": "stream",
          "text": [
            "Training report\n"
          ]
        },
        {
          "name": "stderr",
          "output_type": "stream",
          "text": [
            "100%|██████████| 1/1 [00:41<00:00, 41.49s/it]\n",
            "  0%|          | 0/1 [00:00<?, ?it/s]"
          ]
        },
        {
          "name": "stdout",
          "output_type": "stream",
          "text": [
            "              precision    recall  f1-score   support\n",
            "\n",
            "           0      1.000     0.778     0.875        18\n",
            "           1      0.984     1.000     0.992       239\n",
            "\n",
            "    accuracy                          0.984       257\n",
            "   macro avg      0.992     0.889     0.933       257\n",
            "weighted avg      0.985     0.984     0.984       257\n",
            "\n",
            "Validation report\n"
          ]
        },
        {
          "name": "stderr",
          "output_type": "stream",
          "text": [
            "100%|██████████| 1/1 [00:01<00:00,  1.86s/it]"
          ]
        },
        {
          "name": "stdout",
          "output_type": "stream",
          "text": [
            "              precision    recall  f1-score   support\n",
            "\n",
            "           0      1.000     1.000     1.000         2\n",
            "           1      1.000     1.000     1.000        17\n",
            "\n",
            "    accuracy                          1.000        19\n",
            "   macro avg      1.000     1.000     1.000        19\n",
            "weighted avg      1.000     1.000     1.000        19\n",
            "\n"
          ]
        },
        {
          "name": "stderr",
          "output_type": "stream",
          "text": [
            "\n"
          ]
        }
      ],
      "source": [
        "print(\"Training report\")\n",
        "train_report = evaluate(train_dataset, model, device=device, batch_size=512)\n",
        "print(\"Validation report\")\n",
        "val_report = evaluate(val_dataset, model, device=device, batch_size=512)"
      ]
    },
    {
      "cell_type": "markdown",
      "id": "b719f3ea",
      "metadata": {
        "id": "b719f3ea"
      },
      "source": [
        "### Using GradCAM\n",
        "Since we already prepared a helper function for that, using GradCAM will be pretty simple."
      ]
    },
    {
      "cell_type": "code",
      "execution_count": null,
      "id": "39219ba8",
      "metadata": {
        "id": "39219ba8"
      },
      "outputs": [],
      "source": [
        "# set the layers you want to visualize\n",
        "cnn_layers = [model.cnn_block1,  model.cnn_block2, model.cnn_block3]\n",
        "\n",
        "val_dataset = val_dataset\n",
        "\n",
        "# We have to specify the target we want to generate the class activation maps for.\n",
        "# If the target is None, the highest scoring category will be used for every image in the batch.\n",
        "# I am using ClassifierOutputSoftmaxTarget, it automatically applies softmax to the model outputs.\n",
        "# it is also possible to define your own custom targets. \n",
        "\n",
        "targets = [ClassifierOutputSoftmaxTarget(i) for i in range(10)]\n",
        "\n",
        "# You can also pass aug_smooth=True and eigen_smooth=True to apply smoothing.\n",
        "gradcam(model, GradCAM, cnn_layers, targets, val_dataset, aug_smooth=True, eigen_smooth=True) #use_cuda=True)\n",
        "print('total allocated gpu memory (pytorch):', torch.cuda.memory_allocated())\n"
      ]
    },
    {
      "cell_type": "code",
      "execution_count": null,
      "id": "40743315",
      "metadata": {
        "id": "40743315"
      },
      "outputs": [],
      "source": [
        "# You can also pass aug_smooth=True and eigen_smooth=True to apply smoothing.\n",
        "gradcam(model, GradCAM, cnn_layers, targets, val_dataset, aug_smooth=True, eigen_smooth=True) #use_cuda=True)\n",
        "print('total allocated gpu memory (pytorch):', torch.cuda.memory_allocated())"
      ]
    },
    {
      "cell_type": "markdown",
      "id": "c53ef510",
      "metadata": {
        "id": "c53ef510"
      },
      "source": [
        "# Az inja:"
      ]
    },
    {
      "cell_type": "code",
      "execution_count": null,
      "id": "1478c57a",
      "metadata": {
        "id": "1478c57a"
      },
      "outputs": [],
      "source": [
        "# read the training and test datasets\n",
        "DATASET_PATH = '/Users/azadehbaghdadi/Desktop/New research-CNN/Project/Data/sample/train'\n",
        "# start by importing the datasets as dataframes\n",
        "train_csv = pd.read_csv(os.path.join(DATASET_PATH, 'train.csv'))\n",
        "test_csv = pd.read_csv(os.path.join(DATASET_PATH, 'test.csv'))\n",
        "\n",
        "# split the training dataset to construct a validation set\n",
        "train_set, val_set = train_test_split(train_csv, test_size=.2)\n",
        "test_set = test_csv.copy()\n",
        "\n",
        "\n",
        "print('Train dataset:')\n",
        "display(train_set.sample(5))\n",
        "print('Validation dataset:')\n",
        "display(val_set.sample(5))\n",
        "print('Test dataset:')\n",
        "display(test_set.sample(5))\n",
        "\n",
        "print(\"Total samples in training data:\", len(train_set))\n",
        "print(\"Total samples in validation data:\", len(val_set))\n",
        "print(\"Total samples in test data:\", len(test_csv))\n"
      ]
    },
    {
      "cell_type": "code",
      "execution_count": null,
      "id": "ec444744",
      "metadata": {
        "id": "ec444744"
      },
      "outputs": [],
      "source": [
        "\n",
        "class MNISTDataset(Dataset):\n",
        "    \"\"\"Simple Dataset class for MNIST\n",
        "    \n",
        "    Simply decides if the dataset is for training or testing by checking the number of columns in the dataframe.\n",
        "    \n",
        "    Uses the`_initialize` method to reshape and define the input and target data\n",
        "    \"\"\"\n",
        "    def __init__(self, dataframe, transformations=None):\n",
        "        self._dataframe = dataframe\n",
        "        self.transformations = transformations\n",
        "        self.inputs = None\n",
        "        self.targets = None\n",
        "    \n",
        "        if dataframe.shape[1] == 785: # if it has one more column besides the pixels, it is the training set\n",
        "            self.dataset_type = 'training'\n",
        "        else:\n",
        "            self.dataset_type = 'test'\n",
        "\n",
        "        self._initialize()\n",
        "    \n",
        "    def _initialize(self):\n",
        "        if self.dataset_type == 'training':\n",
        "            self.inputs = self._dataframe.iloc[:, 1:].values.reshape(-1,1, 28, 28)\n",
        "            self.targets = self._dataframe.iloc[:, 0].values\n",
        "        else:\n",
        "            self.inputs = self._dataframe.values.reshape(-1, 1, 28, 28)\n",
        "    \n",
        "    def __len__(self):\n",
        "        return len(self._dataframe)\n",
        "    \n",
        "    def __getitem__(self, idx):\n",
        "        x = self.inputs[idx]\n",
        "        if self.transformations:\n",
        "            x = self.transformations(x)\n",
        "        else:\n",
        "            x = x/255.\n",
        "            x = torch.tensor(x, dtype=torch.float32)\n",
        "        \n",
        "        \n",
        "        if self.dataset_type == 'training':\n",
        "            y = self.targets[idx]\n",
        "            y = torch.tensor(y, dtype=torch.long)\n",
        "            return x,y\n",
        "        else:\n",
        "            return x\n",
        "    \n",
        "\n",
        "\n",
        "train_dataset = MNISTDataset(train_set)\n",
        "show(train_dataset)\n"
      ]
    },
    {
      "cell_type": "code",
      "execution_count": null,
      "id": "78d59f03",
      "metadata": {
        "id": "78d59f03"
      },
      "outputs": [],
      "source": [
        "\n",
        "test_dataset = MNISTDataset(test_set)\n",
        "val_dataset = MNISTDataset(val_set)\n"
      ]
    },
    {
      "cell_type": "code",
      "execution_count": null,
      "id": "f2bff0cd",
      "metadata": {
        "id": "f2bff0cd"
      },
      "outputs": [],
      "source": [
        "# since the dataset is in a dataframe, we can apply the preprocessing pipeline to the dataframe\n",
        "# then we can get the dataset for training\n",
        "\n",
        "train_loader = DataLoader(train_dataset, batch_size=512, shuffle=True)\n",
        "test_loader = DataLoader(test_dataset, batch_size=512, shuffle=False)"
      ]
    },
    {
      "cell_type": "code",
      "execution_count": null,
      "id": "b705569e",
      "metadata": {
        "id": "b705569e"
      },
      "outputs": [],
      "source": [
        "show(train_loader.dataset)"
      ]
    },
    {
      "cell_type": "code",
      "execution_count": null,
      "id": "7ea27a09",
      "metadata": {
        "id": "7ea27a09"
      },
      "outputs": [],
      "source": [
        "show(test_loader.dataset)\n"
      ]
    },
    {
      "cell_type": "markdown",
      "id": "f3718493",
      "metadata": {
        "id": "f3718493"
      },
      "source": [
        "# Ta inja"
      ]
    },
    {
      "cell_type": "code",
      "execution_count": null,
      "id": "e4d32a73",
      "metadata": {
        "id": "e4d32a73"
      },
      "outputs": [],
      "source": []
    }
  ],
  "metadata": {
    "kernelspec": {
      "display_name": "Python 3",
      "language": "python",
      "name": "python3"
    },
    "language_info": {
      "codemirror_mode": {
        "name": "ipython",
        "version": 3
      },
      "file_extension": ".py",
      "mimetype": "text/x-python",
      "name": "python",
      "nbconvert_exporter": "python",
      "pygments_lexer": "ipython3",
      "version": "3.8.8"
    },
    "colab": {
      "provenance": [],
      "machine_shape": "hm",
      "include_colab_link": true
    },
    "accelerator": "GPU",
    "gpuClass": "standard"
  },
  "nbformat": 4,
  "nbformat_minor": 5
}